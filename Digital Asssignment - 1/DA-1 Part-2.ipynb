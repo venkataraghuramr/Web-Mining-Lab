{
 "cells": [
  {
   "cell_type": "markdown",
   "metadata": {},
   "source": [
    "## ----------------------------------------------Digital Assignment Part-2 --------------------------------------------"
   ]
  },
  {
   "cell_type": "markdown",
   "metadata": {},
   "source": [
    "### Questions\n",
    "1. An empty numpy array\n",
    "2. Numpy array filled with all zeros\n",
    "3. Check a Numpy array has a particular row\n",
    "4. Delete elements (+ve) values from a NumPy array\n",
    "5. How to find a particular sequences has occurred in a Numpy Array\n",
    "6. Search a maximum no of element that is there in a numpy array\n",
    "7. Is is possible to merge two 2 dimentional array(numpy)?Do then.\n",
    "8. Can you add a border of a numpy array?Do then.\n",
    "9. A comparison of two numpy array\n",
    "10. Find diagonal of 2D numpy array"
   ]
  },
  {
   "cell_type": "markdown",
   "metadata": {},
   "source": [
    "#### 1. An empty numpy array"
   ]
  },
  {
   "cell_type": "code",
   "execution_count": 1,
   "metadata": {},
   "outputs": [
    {
     "data": {
      "text/plain": [
       "array([[4.67296746e-307, 1.69121096e-306, 1.02359984e-306,\n",
       "        1.89146896e-307, 1.37961302e-306],\n",
       "       [1.05699242e-307, 8.01097889e-307, 1.78020169e-306,\n",
       "        7.56601165e-307, 1.02359984e-306],\n",
       "       [1.33510679e-306, 2.22522597e-306, 1.33511018e-306,\n",
       "        6.23057689e-307, 1.33511290e-306],\n",
       "       [1.78019082e-306, 8.45559303e-307, 8.06613040e-308,\n",
       "        6.89810244e-307, 1.22387550e-307],\n",
       "       [2.22522596e-306, 8.34423917e-308, 1.11261162e-306,\n",
       "        1.78021527e-306, 9.11571040e-304]])"
      ]
     },
     "execution_count": 1,
     "metadata": {},
     "output_type": "execute_result"
    }
   ],
   "source": [
    "import numpy as np\n",
    "\n",
    "arr1 = np.empty((5,5))\n",
    "arr1"
   ]
  },
  {
   "cell_type": "markdown",
   "metadata": {},
   "source": [
    "#### 2. Numpy array filled with all zeros"
   ]
  },
  {
   "cell_type": "code",
   "execution_count": 2,
   "metadata": {},
   "outputs": [
    {
     "data": {
      "text/plain": [
       "array([[0., 0., 0.],\n",
       "       [0., 0., 0.],\n",
       "       [0., 0., 0.]])"
      ]
     },
     "execution_count": 2,
     "metadata": {},
     "output_type": "execute_result"
    }
   ],
   "source": [
    "import numpy as np\n",
    "arr2 = np.zeros((3,3))\n",
    "arr2"
   ]
  },
  {
   "cell_type": "markdown",
   "metadata": {},
   "source": [
    "#### 3. Check a Numpy array has a particular row"
   ]
  },
  {
   "cell_type": "code",
   "execution_count": 3,
   "metadata": {},
   "outputs": [
    {
     "name": "stdout",
     "output_type": "stream",
     "text": [
      "True\n",
      "False\n"
     ]
    }
   ],
   "source": [
    "import numpy as np\n",
    "arr3  = np.arange(9).reshape(3,3)\n",
    "arr3\n",
    "print([0,1,2] in arr3.tolist())\n",
    "print([2,56.560,58] in arr3.tolist())"
   ]
  },
  {
   "cell_type": "markdown",
   "metadata": {},
   "source": [
    "#### 4. Delete elements (+ve) values from a NumPy array"
   ]
  },
  {
   "cell_type": "code",
   "execution_count": 4,
   "metadata": {},
   "outputs": [
    {
     "name": "stdout",
     "output_type": "stream",
     "text": [
      "Before deleting the elements from the numpy array: \n",
      "\n",
      "\n",
      "[[ 0  1  2  3]\n",
      " [ 4  5  6  7]\n",
      " [ 8  9 10 11]\n",
      " [12 13 14 15]]\n",
      "\n",
      "After Deleting the elements from the numpy array: \n",
      "\n",
      " [[ 4  5  6  7]\n",
      " [ 8  9 10 11]\n",
      " [12 13 14 15]]\n"
     ]
    }
   ],
   "source": [
    "import numpy as np  ## needed to improve the program needed to modify\n",
    "arr4 = np.arange(16).reshape(4,4)\n",
    "print(\"Before deleting the elements from the numpy array: \")\n",
    "print(\"\\n\")\n",
    "print(arr4)\n",
    "arr5 = np.delete(arr4,0,axis = 0)\n",
    "print(\"\\nAfter Deleting the elements from the numpy array: \")\n",
    "print(\"\\n\",arr5)"
   ]
  },
  {
   "cell_type": "markdown",
   "metadata": {},
   "source": [
    "#### 5. How to find a particular sequences has occurred in a Numpy Array"
   ]
  },
  {
   "cell_type": "code",
   "execution_count": 5,
   "metadata": {},
   "outputs": [
    {
     "name": "stdout",
     "output_type": "stream",
     "text": [
      "The number of occurances of number 3 in arr3:  5\n",
      "The number of occurances of number 5 in arr3:  10\n"
     ]
    }
   ],
   "source": [
    "import numpy as np\n",
    "arr3 = ([2,3,4,5,6,7,8,9,7,5,4,4,5,6,7,8,5,5,4,3,3,3,3,33,44,5,55,5,5,5,5]) # single dimensions\n",
    "arr3 = np.array(arr3) \n",
    "\n",
    "count = np.count_nonzero(arr3 == 3)\n",
    "\n",
    "print('The number of occurances of number 3 in arr3: ',count) ## we are using the count_nonzero() function to get the no of occurances\n",
    "\n",
    "count1 = np.bincount(arr3)\n",
    "print('The number of occurances of number 5 in arr3: ',count1[5]) # we are using the bincount() inbuilt function to get the occurances\n"
   ]
  },
  {
   "cell_type": "markdown",
   "metadata": {},
   "source": [
    "##### Using  Two dimensional array"
   ]
  },
  {
   "cell_type": "code",
   "execution_count": 6,
   "metadata": {},
   "outputs": [
    {
     "name": "stdout",
     "output_type": "stream",
     "text": [
      "1\n"
     ]
    }
   ],
   "source": [
    "import numpy as np\n",
    "arr5 = np.array([[4,5,6,666], \n",
    "                   [666,666,666,6666],\n",
    "                   [4334, 4445, 666, 7]])\n",
    "  \n",
    "count4 = np.count_nonzero(\"666\")\n",
    "print(count4)"
   ]
  },
  {
   "cell_type": "markdown",
   "metadata": {},
   "source": [
    "#### 6. Search a maximum no of element that is there in a numpy array"
   ]
  },
  {
   "cell_type": "code",
   "execution_count": 7,
   "metadata": {},
   "outputs": [
    {
     "name": "stdout",
     "output_type": "stream",
     "text": [
      "the maximum value in the arr5 is:  6666\n"
     ]
    }
   ],
   "source": [
    "import numpy as np\n",
    "arr5 = np.array([[4,5,6,666], \n",
    "                   [666,666,666,6666],\n",
    "                   [4334, 4445, 666, 7]])\n",
    "\n",
    "a = np.max(arr5)\n",
    "print('the maximum value in the arr5 is: ',a)"
   ]
  },
  {
   "cell_type": "markdown",
   "metadata": {},
   "source": [
    "#### 7. Is is possible to merge two 2 dimentional array(numpy)?Do then."
   ]
  },
  {
   "cell_type": "code",
   "execution_count": 8,
   "metadata": {},
   "outputs": [
    {
     "name": "stdout",
     "output_type": "stream",
     "text": [
      "[14 67 56 45 34 67 89 77 67 78 56 45 34 56 78 90]\n"
     ]
    }
   ],
   "source": [
    "import numpy as np\n",
    "\n",
    "arr14 = np.array([14,67,56,45,34,67,89,77])\n",
    "arr15 = np.array([67,78,56,45,34,56,78,90])\n",
    "\n",
    "arr16 = np.concatenate((arr14,arr15))\n",
    "\n",
    "print(arr16)"
   ]
  },
  {
   "cell_type": "markdown",
   "metadata": {},
   "source": [
    "#### 8. Can you add a border of a numpy array?Do then."
   ]
  },
  {
   "cell_type": "code",
   "execution_count": 9,
   "metadata": {},
   "outputs": [
    {
     "name": "stdout",
     "output_type": "stream",
     "text": [
      "Original array:\n",
      "\n",
      "\n",
      "[[2. 2. 2. 2. 2.]\n",
      " [2. 2. 2. 2. 2.]\n",
      " [2. 2. 2. 2. 2.]\n",
      " [2. 2. 2. 2. 2.]\n",
      " [2. 2. 2. 2. 2.]]\n",
      "\n",
      "\n",
      "After adding border: \n",
      "\n",
      "\n",
      "[[2. 2. 2. 2. 2.]\n",
      " [2. 5. 5. 5. 2.]\n",
      " [2. 5. 5. 5. 2.]\n",
      " [2. 5. 5. 5. 2.]\n",
      " [2. 2. 2. 2. 2.]]\n"
     ]
    }
   ],
   "source": [
    "## we can add the border to the numpy array we can addd twos as borders to the array with fives inside the array.\n",
    "\n",
    "import numpy as np\n",
    "arr13 = np.ones((5,5))*2\n",
    "print(\"Original array:\")\n",
    "print(\"\\n\")\n",
    "print(arr13)\n",
    "print(\"\\n\")\n",
    "print(\"After adding border: \")\n",
    "print(\"\\n\")\n",
    "arr13[1:-1,1:-1] =5\n",
    "print(arr13)"
   ]
  },
  {
   "cell_type": "markdown",
   "metadata": {},
   "source": [
    "#### 9. A comparison of two numpy array"
   ]
  },
  {
   "cell_type": "code",
   "execution_count": 10,
   "metadata": {},
   "outputs": [
    {
     "name": "stdout",
     "output_type": "stream",
     "text": [
      "False\n",
      "True\n",
      "False\n"
     ]
    }
   ],
   "source": [
    "import numpy as np\n",
    "  \n",
    "arr16 = np.array([[11,12,14,15,16],\n",
    "                  [11,12,13,14,15],\n",
    "                 [56,57,58,59,60],\n",
    "                 [61,62,63,64,64],\n",
    "                 [71,72,73,74,75]])\n",
    "\n",
    "arr17 = np.array([[11,12,14,15,16], \n",
    "              [11,12,14,14,15],\n",
    "             [56,57,58,59,60],\n",
    "             [61,62,63,64,64],\n",
    "             [71,72,73,74,75]])\n",
    "\n",
    "arr18 = np.array([[11,12,14,15,16], \n",
    "                  [11,12,13,14,15],\n",
    "                 [56,57,58,59,60],\n",
    "                 [61,62,63,64,64],\n",
    "                 [71,72,73,74,75]])\n",
    "\n",
    "\n",
    "a = (arr16 == arr17).all() ##we are using this .all() so that it checks each and every element in the numpy array\n",
    "b = (arr16 == arr18).all()\n",
    "c = (arr17 == arr18).all()\n",
    "print(a)\n",
    "print(b)\n",
    "print(c)"
   ]
  },
  {
   "cell_type": "markdown",
   "metadata": {},
   "source": [
    "#### 10. Find diagonal of 2D numpy array"
   ]
  },
  {
   "cell_type": "code",
   "execution_count": 11,
   "metadata": {},
   "outputs": [
    {
     "name": "stdout",
     "output_type": "stream",
     "text": [
      "[  4  66 555]\n"
     ]
    }
   ],
   "source": [
    "import numpy as np\n",
    "arr20 = np.array([[4,5,6],\n",
    "                  [66,66,44],\n",
    "                 [333,444,555]])\n",
    "  \n",
    "a= arr20.shape\n",
    "print(np.diag(arr20))"
   ]
  },
  {
   "cell_type": "code",
   "execution_count": null,
   "metadata": {},
   "outputs": [],
   "source": []
  }
 ],
 "metadata": {
  "kernelspec": {
   "display_name": "Python 3",
   "language": "python",
   "name": "python3"
  },
  "language_info": {
   "codemirror_mode": {
    "name": "ipython",
    "version": 3
   },
   "file_extension": ".py",
   "mimetype": "text/x-python",
   "name": "python",
   "nbconvert_exporter": "python",
   "pygments_lexer": "ipython3",
   "version": "3.8.5"
  }
 },
 "nbformat": 4,
 "nbformat_minor": 4
}
